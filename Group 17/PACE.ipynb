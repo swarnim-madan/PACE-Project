{
 "cells": [
  {
   "cell_type": "markdown",
   "metadata": {},
   "source": [
    "# Group 17"
   ]
  },
  {
   "cell_type": "code",
   "execution_count": 4,
   "metadata": {},
   "outputs": [],
   "source": [
    "import numpy as np\n",
    "import pandas as pd\n",
    "import matplotlib.pyplot as plt\n",
    "%matplotlib inline\n",
    "import seaborn as sns"
   ]
  },
  {
   "cell_type": "code",
   "execution_count": 2,
   "metadata": {},
   "outputs": [],
   "source": [
    "df = pd.read_excel('files/Copy of bank.xlsx', index_col=0)"
   ]
  },
  {
   "cell_type": "markdown",
   "metadata": {},
   "source": [
    "## Introduction of the data:\n",
    "\n",
    "* Customer name: Jon Smith\n",
    "* Weekly income: $400\n",
    "* Occupation: Full-time student at Macquarie University. Part-time crew member at Domino's."
   ]
  },
  {
   "cell_type": "markdown",
   "metadata": {},
   "source": [
    "## Brief snippet of the data:"
   ]
  },
  {
   "cell_type": "code",
   "execution_count": 3,
   "metadata": {},
   "outputs": [
    {
     "data": {
      "text/html": [
       "<div>\n",
       "<style scoped>\n",
       "    .dataframe tbody tr th:only-of-type {\n",
       "        vertical-align: middle;\n",
       "    }\n",
       "\n",
       "    .dataframe tbody tr th {\n",
       "        vertical-align: top;\n",
       "    }\n",
       "\n",
       "    .dataframe thead th {\n",
       "        text-align: right;\n",
       "    }\n",
       "</style>\n",
       "<table border=\"1\" class=\"dataframe\">\n",
       "  <thead>\n",
       "    <tr style=\"text-align: right;\">\n",
       "      <th></th>\n",
       "      <th>Date</th>\n",
       "      <th>TIME_TRANS</th>\n",
       "      <th>LOCATION</th>\n",
       "      <th>TRANS_TYPE</th>\n",
       "      <th>WITHDRAWL</th>\n",
       "      <th>DEPOSIT</th>\n",
       "      <th>BALANCE</th>\n",
       "    </tr>\n",
       "    <tr>\n",
       "      <th>TRANS_ID</th>\n",
       "      <th></th>\n",
       "      <th></th>\n",
       "      <th></th>\n",
       "      <th></th>\n",
       "      <th></th>\n",
       "      <th></th>\n",
       "      <th></th>\n",
       "    </tr>\n",
       "  </thead>\n",
       "  <tbody>\n",
       "    <tr>\n",
       "      <th>1</th>\n",
       "      <td>02.05.2020</td>\n",
       "      <td>17</td>\n",
       "      <td>NaN</td>\n",
       "      <td>Weekly pay</td>\n",
       "      <td>NaN</td>\n",
       "      <td>400.0</td>\n",
       "      <td>550</td>\n",
       "    </tr>\n",
       "    <tr>\n",
       "      <th>2</th>\n",
       "      <td>02.05.2020</td>\n",
       "      <td>18</td>\n",
       "      <td>Macquarie Park</td>\n",
       "      <td>Healthcare</td>\n",
       "      <td>59.0</td>\n",
       "      <td>NaN</td>\n",
       "      <td>491</td>\n",
       "    </tr>\n",
       "    <tr>\n",
       "      <th>3</th>\n",
       "      <td>03.05.2020</td>\n",
       "      <td>14</td>\n",
       "      <td>Chatswood</td>\n",
       "      <td>Utilities</td>\n",
       "      <td>60.0</td>\n",
       "      <td>NaN</td>\n",
       "      <td>431</td>\n",
       "    </tr>\n",
       "    <tr>\n",
       "      <th>4</th>\n",
       "      <td>04.05.2020</td>\n",
       "      <td>18</td>\n",
       "      <td>Burwood</td>\n",
       "      <td>Clothing</td>\n",
       "      <td>42.0</td>\n",
       "      <td>NaN</td>\n",
       "      <td>389</td>\n",
       "    </tr>\n",
       "    <tr>\n",
       "      <th>5</th>\n",
       "      <td>05.05.2020</td>\n",
       "      <td>7</td>\n",
       "      <td>Town Hall</td>\n",
       "      <td>Travel</td>\n",
       "      <td>16.0</td>\n",
       "      <td>NaN</td>\n",
       "      <td>373</td>\n",
       "    </tr>\n",
       "  </tbody>\n",
       "</table>\n",
       "</div>"
      ],
      "text/plain": [
       "                Date  TIME_TRANS        LOCATION  TRANS_TYPE  WITHDRAWL  \\\n",
       "TRANS_ID                                                                  \n",
       "1         02.05.2020          17             NaN  Weekly pay        NaN   \n",
       "2         02.05.2020          18  Macquarie Park  Healthcare       59.0   \n",
       "3         03.05.2020          14       Chatswood   Utilities       60.0   \n",
       "4         04.05.2020          18         Burwood    Clothing       42.0   \n",
       "5         05.05.2020           7       Town Hall      Travel       16.0   \n",
       "\n",
       "          DEPOSIT  BALANCE  \n",
       "TRANS_ID                    \n",
       "1           400.0      550  \n",
       "2             NaN      491  \n",
       "3             NaN      431  \n",
       "4             NaN      389  \n",
       "5             NaN      373  "
      ]
     },
     "execution_count": 3,
     "metadata": {},
     "output_type": "execute_result"
    }
   ],
   "source": [
    "df.head()"
   ]
  },
  {
   "cell_type": "markdown",
   "metadata": {},
   "source": [
    "## Data description:\n",
    "\n",
    "1. ID: Gives every transaction a unique identifier.\n",
    "2. DATE: Gives the date on which Jon made the transaction. \n",
    "3. TIME_TRANS: Gives the time taken to complete the transaction (in seconds).\n",
    "4. LOCATION: Gives the location where Jon made the transaction.\n",
    "5. TRANS_TYPE: Categorises each transaction in 6 categories. Categories are:\n",
    "    * Clothing: Includes the amount spent on clothing and other fashion accessories.\n",
    "    * Food: Includes the amount spent on food at restaurants.\n",
    "    * Healthcare: Includes the amount spent on all health related issues. This includes pharmacies and hospitals.\n",
    "    * Travel: Includes all travel related expenses. This includes the money spent on public transport and petrol stations.\n",
    "    * Utilities: This includes all miscellaneous expenditure.\n",
    "    * Weekly pay: This refers to the weekly payment which is deposited to Jon's account.\n",
    "6. WITHDRAWL: Gives the amount of money withdrawn from Jon's account.\n",
    "7. DEPOSIT: Gives the amount of money deposited into Jon's account..\n",
    "8. BALANCE: Gives the total amount of money in Jon's account after each transaction."
   ]
  },
  {
   "cell_type": "markdown",
   "metadata": {},
   "source": [
    "A similar distribution among all income categories can be seen. "
   ]
  },
  {
   "cell_type": "markdown",
   "metadata": {},
   "source": [
    "Both the charts above show that income does not affect the time a customer spends on the banking app."
   ]
  }
 ],
 "metadata": {
  "kernelspec": {
   "display_name": "Python 3",
   "language": "python",
   "name": "python3"
  },
  "language_info": {
   "codemirror_mode": {
    "name": "ipython",
    "version": 3
   },
   "file_extension": ".py",
   "mimetype": "text/x-python",
   "name": "python",
   "nbconvert_exporter": "python",
   "pygments_lexer": "ipython3",
   "version": "3.8.3"
  }
 },
 "nbformat": 4,
 "nbformat_minor": 2
}
