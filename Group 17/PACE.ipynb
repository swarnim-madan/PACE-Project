{
 "cells": [
  {
   "cell_type": "markdown",
   "metadata": {},
   "source": [
    "# Group 17"
   ]
  },
  {
   "cell_type": "code",
   "execution_count": 25,
   "metadata": {},
   "outputs": [],
   "source": [
    "import numpy as np\n",
    "import pandas as pd\n",
    "import matplotlib.pyplot as plt\n",
    "%matplotlib inline\n",
    "import seaborn as sns\n",
    "\n",
    "from sklearn.model_selection import train_test_split\n",
    "from sklearn import linear_model\n",
    "from sklearn.metrics import r2_score"
   ]
  },
  {
   "cell_type": "code",
   "execution_count": 8,
   "metadata": {},
   "outputs": [],
   "source": [
    "bank = pd.read_excel('files/Copy of bank.xlsx', index_col=0)"
   ]
  },
  {
   "cell_type": "markdown",
   "metadata": {},
   "source": [
    "## Introduction of the data:\n",
    "\n",
    "* The mock data consists of 3 customers' transactions over a two month period. \n",
    "* Weekly income of all customers: $400\n"
   ]
  },
  {
   "cell_type": "markdown",
   "metadata": {},
   "source": [
    "## Brief snippet of the data:"
   ]
  },
  {
   "cell_type": "markdown",
   "metadata": {},
   "source": [
    "(Ignore the last column for now, just using it for calculations)"
   ]
  },
  {
   "cell_type": "code",
   "execution_count": 9,
   "metadata": {},
   "outputs": [
    {
     "data": {
      "text/html": [
       "<div>\n",
       "<style scoped>\n",
       "    .dataframe tbody tr th:only-of-type {\n",
       "        vertical-align: middle;\n",
       "    }\n",
       "\n",
       "    .dataframe tbody tr th {\n",
       "        vertical-align: top;\n",
       "    }\n",
       "\n",
       "    .dataframe thead th {\n",
       "        text-align: right;\n",
       "    }\n",
       "</style>\n",
       "<table border=\"1\" class=\"dataframe\">\n",
       "  <thead>\n",
       "    <tr style=\"text-align: right;\">\n",
       "      <th></th>\n",
       "      <th>CUST_ID</th>\n",
       "      <th>Date</th>\n",
       "      <th>LOCATION</th>\n",
       "      <th>TRANS_TYPE</th>\n",
       "      <th>TRANS_TYPE_CODE</th>\n",
       "      <th>WITHDRAWL</th>\n",
       "      <th>DEPOSIT</th>\n",
       "      <th>BALANCE</th>\n",
       "      <th>Unnamed: 9</th>\n",
       "    </tr>\n",
       "    <tr>\n",
       "      <th>TRANS_ID</th>\n",
       "      <th></th>\n",
       "      <th></th>\n",
       "      <th></th>\n",
       "      <th></th>\n",
       "      <th></th>\n",
       "      <th></th>\n",
       "      <th></th>\n",
       "      <th></th>\n",
       "      <th></th>\n",
       "    </tr>\n",
       "  </thead>\n",
       "  <tbody>\n",
       "    <tr>\n",
       "      <th>1</th>\n",
       "      <td>CID1</td>\n",
       "      <td>2020-05-02</td>\n",
       "      <td>2026.0</td>\n",
       "      <td>Travel</td>\n",
       "      <td>4</td>\n",
       "      <td>20.0</td>\n",
       "      <td>NaN</td>\n",
       "      <td>480</td>\n",
       "      <td>480.0</td>\n",
       "    </tr>\n",
       "    <tr>\n",
       "      <th>2</th>\n",
       "      <td>CID1</td>\n",
       "      <td>2020-05-02</td>\n",
       "      <td>2067.0</td>\n",
       "      <td>Healthcare</td>\n",
       "      <td>1</td>\n",
       "      <td>59.0</td>\n",
       "      <td>NaN</td>\n",
       "      <td>421</td>\n",
       "      <td>500.0</td>\n",
       "    </tr>\n",
       "    <tr>\n",
       "      <th>3</th>\n",
       "      <td>CID1</td>\n",
       "      <td>2020-05-03</td>\n",
       "      <td>2000.0</td>\n",
       "      <td>Food</td>\n",
       "      <td>2</td>\n",
       "      <td>60.0</td>\n",
       "      <td>NaN</td>\n",
       "      <td>361</td>\n",
       "      <td>NaN</td>\n",
       "    </tr>\n",
       "    <tr>\n",
       "      <th>4</th>\n",
       "      <td>CID1</td>\n",
       "      <td>2020-05-03</td>\n",
       "      <td>2120.0</td>\n",
       "      <td>Clothing</td>\n",
       "      <td>3</td>\n",
       "      <td>42.0</td>\n",
       "      <td>NaN</td>\n",
       "      <td>319</td>\n",
       "      <td>NaN</td>\n",
       "    </tr>\n",
       "    <tr>\n",
       "      <th>5</th>\n",
       "      <td>CID1</td>\n",
       "      <td>2020-05-03</td>\n",
       "      <td>2113.0</td>\n",
       "      <td>Travel</td>\n",
       "      <td>4</td>\n",
       "      <td>16.0</td>\n",
       "      <td>NaN</td>\n",
       "      <td>303</td>\n",
       "      <td>NaN</td>\n",
       "    </tr>\n",
       "    <tr>\n",
       "      <th>6</th>\n",
       "      <td>CID1</td>\n",
       "      <td>2020-05-06</td>\n",
       "      <td>2120.0</td>\n",
       "      <td>Food</td>\n",
       "      <td>2</td>\n",
       "      <td>57.0</td>\n",
       "      <td>NaN</td>\n",
       "      <td>246</td>\n",
       "      <td>NaN</td>\n",
       "    </tr>\n",
       "    <tr>\n",
       "      <th>7</th>\n",
       "      <td>CID1</td>\n",
       "      <td>2020-05-07</td>\n",
       "      <td>NaN</td>\n",
       "      <td>Weekly pay</td>\n",
       "      <td>0</td>\n",
       "      <td>NaN</td>\n",
       "      <td>400.0</td>\n",
       "      <td>646</td>\n",
       "      <td>166.0</td>\n",
       "    </tr>\n",
       "    <tr>\n",
       "      <th>8</th>\n",
       "      <td>CID1</td>\n",
       "      <td>2020-05-10</td>\n",
       "      <td>2135.0</td>\n",
       "      <td>Utilities</td>\n",
       "      <td>5</td>\n",
       "      <td>38.0</td>\n",
       "      <td>NaN</td>\n",
       "      <td>608</td>\n",
       "      <td>NaN</td>\n",
       "    </tr>\n",
       "    <tr>\n",
       "      <th>9</th>\n",
       "      <td>CID1</td>\n",
       "      <td>2020-05-12</td>\n",
       "      <td>2135.0</td>\n",
       "      <td>Food</td>\n",
       "      <td>2</td>\n",
       "      <td>78.0</td>\n",
       "      <td>NaN</td>\n",
       "      <td>530</td>\n",
       "      <td>NaN</td>\n",
       "    </tr>\n",
       "    <tr>\n",
       "      <th>10</th>\n",
       "      <td>CID1</td>\n",
       "      <td>2020-05-12</td>\n",
       "      <td>2067.0</td>\n",
       "      <td>Travel</td>\n",
       "      <td>4</td>\n",
       "      <td>58.0</td>\n",
       "      <td>NaN</td>\n",
       "      <td>472</td>\n",
       "      <td>NaN</td>\n",
       "    </tr>\n",
       "  </tbody>\n",
       "</table>\n",
       "</div>"
      ],
      "text/plain": [
       "         CUST_ID       Date  LOCATION  TRANS_TYPE  TRANS_TYPE_CODE  WITHDRAWL  \\\n",
       "TRANS_ID                                                                        \n",
       "1           CID1 2020-05-02    2026.0      Travel                4       20.0   \n",
       "2           CID1 2020-05-02    2067.0  Healthcare                1       59.0   \n",
       "3           CID1 2020-05-03    2000.0        Food                2       60.0   \n",
       "4           CID1 2020-05-03    2120.0    Clothing                3       42.0   \n",
       "5           CID1 2020-05-03    2113.0      Travel                4       16.0   \n",
       "6           CID1 2020-05-06    2120.0        Food                2       57.0   \n",
       "7           CID1 2020-05-07       NaN  Weekly pay                0        NaN   \n",
       "8           CID1 2020-05-10    2135.0   Utilities                5       38.0   \n",
       "9           CID1 2020-05-12    2135.0        Food                2       78.0   \n",
       "10          CID1 2020-05-12    2067.0      Travel                4       58.0   \n",
       "\n",
       "          DEPOSIT  BALANCE  Unnamed: 9  \n",
       "TRANS_ID                                \n",
       "1             NaN      480       480.0  \n",
       "2             NaN      421       500.0  \n",
       "3             NaN      361         NaN  \n",
       "4             NaN      319         NaN  \n",
       "5             NaN      303         NaN  \n",
       "6             NaN      246         NaN  \n",
       "7           400.0      646       166.0  \n",
       "8             NaN      608         NaN  \n",
       "9             NaN      530         NaN  \n",
       "10            NaN      472         NaN  "
      ]
     },
     "execution_count": 9,
     "metadata": {},
     "output_type": "execute_result"
    }
   ],
   "source": [
    "bank.head(10)"
   ]
  },
  {
   "cell_type": "markdown",
   "metadata": {},
   "source": [
    "## Data description:\n",
    "\n",
    "1. TRANS_ID: Gives every transaction a unique identifier. (Primary key)\n",
    "2. CUST_ID: Gives an identifier to each customer. (Foreign key)\n",
    "3. DATE: Gives the date on which Jon made the transaction. \n",
    "4. LOCATION: Gives the postal code of the location where a customer made the transaction.\n",
    "5. TRANS_TYPE: Categorises each transaction in 6 categories. Categories are:\n",
    "    * Clothing: Includes the amount spent on clothing and other fashion accessories.\n",
    "    * Food: Includes the amount spent on food at restaurants.\n",
    "    * Healthcare: Includes the amount spent on all health related issues. This includes pharmacies and hospitals.\n",
    "    * Travel: Includes all travel related expenses. This includes the money spent on public transport and petrol stations.\n",
    "    * Utilities: This includes all miscellaneous expenditure.\n",
    "    * Weekly pay: This refers to the weekly payment which is deposited to the customer's account.\n",
    "6. TRANS_TYPE_CODE: Gives a numeric code to the categories in the above column. Codes are:\n",
    "    * 0: Weekly pay\n",
    "    * 1: Healthcare\n",
    "    * 2: Food\n",
    "    * 3: Clothing\n",
    "    * 4: Travel\n",
    "    * 5: Utilities\n",
    "7. WITHDRAWL: Gives the amount of money withdrawn from the customer's account.\n",
    "8. DEPOSIT: Gives the amount of money deposited into the customer's account..\n",
    "9. BALANCE: Gives the total amount of money in the customer's account after each transaction."
   ]
  },
  {
   "cell_type": "markdown",
   "metadata": {},
   "source": [
    "## Splitting the data into a training and a testing set. "
   ]
  },
  {
   "cell_type": "code",
   "execution_count": 10,
   "metadata": {},
   "outputs": [
    {
     "name": "stdout",
     "output_type": "stream",
     "text": [
      "(100, 9)\n",
      "(100, 9)\n"
     ]
    }
   ],
   "source": [
    "train, test = train_test_split(bank, test_size = 0.5)\n",
    "print(train.shape)\n",
    "print(test.shape)"
   ]
  },
  {
   "cell_type": "code",
   "execution_count": 11,
   "metadata": {},
   "outputs": [
    {
     "data": {
      "text/html": [
       "<div>\n",
       "<style scoped>\n",
       "    .dataframe tbody tr th:only-of-type {\n",
       "        vertical-align: middle;\n",
       "    }\n",
       "\n",
       "    .dataframe tbody tr th {\n",
       "        vertical-align: top;\n",
       "    }\n",
       "\n",
       "    .dataframe thead th {\n",
       "        text-align: right;\n",
       "    }\n",
       "</style>\n",
       "<table border=\"1\" class=\"dataframe\">\n",
       "  <thead>\n",
       "    <tr style=\"text-align: right;\">\n",
       "      <th></th>\n",
       "      <th>LOCATION</th>\n",
       "      <th>TRANS_TYPE_CODE</th>\n",
       "      <th>WITHDRAWL</th>\n",
       "      <th>DEPOSIT</th>\n",
       "      <th>BALANCE</th>\n",
       "      <th>Unnamed: 9</th>\n",
       "    </tr>\n",
       "  </thead>\n",
       "  <tbody>\n",
       "    <tr>\n",
       "      <th>count</th>\n",
       "      <td>168.000000</td>\n",
       "      <td>200.000000</td>\n",
       "      <td>168.000000</td>\n",
       "      <td>32.0</td>\n",
       "      <td>200.000000</td>\n",
       "      <td>12.000000</td>\n",
       "    </tr>\n",
       "    <tr>\n",
       "      <th>mean</th>\n",
       "      <td>2088.553571</td>\n",
       "      <td>2.480000</td>\n",
       "      <td>52.315476</td>\n",
       "      <td>400.0</td>\n",
       "      <td>918.950000</td>\n",
       "      <td>354.500000</td>\n",
       "    </tr>\n",
       "    <tr>\n",
       "      <th>std</th>\n",
       "      <td>53.960593</td>\n",
       "      <td>1.671397</td>\n",
       "      <td>29.129926</td>\n",
       "      <td>0.0</td>\n",
       "      <td>484.328253</td>\n",
       "      <td>283.845829</td>\n",
       "    </tr>\n",
       "    <tr>\n",
       "      <th>min</th>\n",
       "      <td>2000.000000</td>\n",
       "      <td>0.000000</td>\n",
       "      <td>1.000000</td>\n",
       "      <td>400.0</td>\n",
       "      <td>36.000000</td>\n",
       "      <td>19.000000</td>\n",
       "    </tr>\n",
       "    <tr>\n",
       "      <th>25%</th>\n",
       "      <td>2062.000000</td>\n",
       "      <td>1.000000</td>\n",
       "      <td>29.000000</td>\n",
       "      <td>400.0</td>\n",
       "      <td>512.750000</td>\n",
       "      <td>158.750000</td>\n",
       "    </tr>\n",
       "    <tr>\n",
       "      <th>50%</th>\n",
       "      <td>2088.000000</td>\n",
       "      <td>2.000000</td>\n",
       "      <td>52.000000</td>\n",
       "      <td>400.0</td>\n",
       "      <td>857.000000</td>\n",
       "      <td>294.500000</td>\n",
       "    </tr>\n",
       "    <tr>\n",
       "      <th>75%</th>\n",
       "      <td>2123.500000</td>\n",
       "      <td>4.000000</td>\n",
       "      <td>77.000000</td>\n",
       "      <td>400.0</td>\n",
       "      <td>1264.500000</td>\n",
       "      <td>500.000000</td>\n",
       "    </tr>\n",
       "    <tr>\n",
       "      <th>max</th>\n",
       "      <td>2200.000000</td>\n",
       "      <td>5.000000</td>\n",
       "      <td>127.000000</td>\n",
       "      <td>400.0</td>\n",
       "      <td>2122.000000</td>\n",
       "      <td>1000.000000</td>\n",
       "    </tr>\n",
       "  </tbody>\n",
       "</table>\n",
       "</div>"
      ],
      "text/plain": [
       "          LOCATION  TRANS_TYPE_CODE   WITHDRAWL  DEPOSIT      BALANCE  \\\n",
       "count   168.000000       200.000000  168.000000     32.0   200.000000   \n",
       "mean   2088.553571         2.480000   52.315476    400.0   918.950000   \n",
       "std      53.960593         1.671397   29.129926      0.0   484.328253   \n",
       "min    2000.000000         0.000000    1.000000    400.0    36.000000   \n",
       "25%    2062.000000         1.000000   29.000000    400.0   512.750000   \n",
       "50%    2088.000000         2.000000   52.000000    400.0   857.000000   \n",
       "75%    2123.500000         4.000000   77.000000    400.0  1264.500000   \n",
       "max    2200.000000         5.000000  127.000000    400.0  2122.000000   \n",
       "\n",
       "        Unnamed: 9  \n",
       "count    12.000000  \n",
       "mean    354.500000  \n",
       "std     283.845829  \n",
       "min      19.000000  \n",
       "25%     158.750000  \n",
       "50%     294.500000  \n",
       "75%     500.000000  \n",
       "max    1000.000000  "
      ]
     },
     "execution_count": 11,
     "metadata": {},
     "output_type": "execute_result"
    }
   ],
   "source": [
    "bank.describe()"
   ]
  },
  {
   "cell_type": "code",
   "execution_count": 32,
   "metadata": {},
   "outputs": [
    {
     "name": "stdout",
     "output_type": "stream",
     "text": [
      "         CUST_ID  BALANCE\n",
      "TRANS_ID                 \n",
      "1           CID1      480\n",
      "2           CID1      421\n",
      "3           CID1      361\n",
      "4           CID1      319\n",
      "5           CID1      303\n",
      "...          ...      ...\n",
      "196         CID4     1249\n",
      "197         CID4     1205\n",
      "198         CID4     1605\n",
      "199         CID4     1545\n",
      "200         CID4     1505\n",
      "\n",
      "[200 rows x 2 columns]\n"
     ]
    }
   ],
   "source": [
    "print(bank[['CUST_ID', 'BALANCE']])\n"
   ]
  },
  {
   "cell_type": "markdown",
   "metadata": {},
   "source": [
    "### **Aim:** \n",
    "> To calculate the projected expenditure of the user based on the data collected."
   ]
  },
  {
   "cell_type": "markdown",
   "metadata": {},
   "source": [
    "### **Hypothesis:**\n",
    "> Using average expenditure per transaction type, we can calculate the projections for next week using \"Projected Income - Projected Expenses\""
   ]
  },
  {
   "cell_type": "markdown",
   "metadata": {},
   "source": [
    "### **Method:**"
   ]
  },
  {
   "cell_type": "code",
   "execution_count": 15,
   "metadata": {},
   "outputs": [
    {
     "data": {
      "text/plain": [
       "(array([0, 1, 2, 3, 4, 5]), <a list of 6 Text major ticklabel objects>)"
      ]
     },
     "execution_count": 15,
     "metadata": {},
     "output_type": "execute_result"
    },
    {
     "data": {
      "image/png": "[encoded data removed]",
      "text/plain": [
       "<Figure size 432x288 with 1 Axes>"
      ]
     },
     "metadata": {
      "needs_background": "light"
     },
     "output_type": "display_data"
    }
   ],
   "source": [
    "sns.countplot(x='TRANS_TYPE', data=bank, palette='husl')\n",
    "# Will try to get rid of \"Weekly pay\", the code below doesn't seem to work.\n",
    "# stats_df = df.drop(['Weekly pay'], axis=1)\n",
    "# sns.countplot(data=stats_df)\n",
    "plt.xticks(rotation=-45)"
   ]
  },
  {
   "cell_type": "markdown",
   "metadata": {},
   "source": [
    "* Most of CID1's expenditure is focussed on **Food** with **Travel** next. \n",
    "* **Utilities** is third in line, this could be interpreted as the expenditure on public transport and/or for the fuel in his car.\n",
    "* An equal amount of expenditure on **Healthcare** and **Clothing** is observed."
   ]
  },
  {
   "cell_type": "code",
   "execution_count": 5,
   "metadata": {},
   "outputs": [
    {
     "data": {
      "text/plain": [
       "<seaborn.axisgrid.FacetGrid at 0x15c0e94c910>"
      ]
     },
     "execution_count": 5,
     "metadata": {},
     "output_type": "execute_result"
    },
    {
     "data": {
      "image/png": "[encoded data removed]",
      "text/plain": [
       "<Figure size 464x360 with 1 Axes>"
      ]
     },
     "metadata": {
      "needs_background": "light"
     },
     "output_type": "display_data"
    }
   ],
   "source": [
    "sns.lmplot(x='BALANCE',y='TRANS_TYPE_CODE', data=df,\n",
    "           fit_reg=True, hue=\"TRANS_TYPE_CODE\", palette='husl') "
   ]
  },
  {
   "cell_type": "markdown",
   "metadata": {},
   "source": [
    "We can see that Jon is saving up his money weekly as the **Balance** of his bank account is going futher after each of his **Weekly pay** and his ahead of any expenditure done by him."
   ]
  },
  {
   "cell_type": "markdown",
   "metadata": {},
   "source": [
    "## Projections for upcoming week:"
   ]
  },
  {
   "cell_type": "markdown",
   "metadata": {},
   "source": [
    "**Assumptions:**\n",
    "* The starting balance amount in Customer 1's account before his first weekly pay is $500.\n",
    "\n",
    "* The starting balance amount in Customer 2's account before his first weekly pay is $1000.\n",
    "\n",
    "* The starting balance amount in Customer 3's account before his first weekly pay is $400.\n",
    "\n",
    "* (More assumptions to come)\n",
    "\n",
    "Table highlighting the **Balance** in Customer 1's account after his weekly pay and before any of his expenditures:"
   ]
  },
  {
   "cell_type": "markdown",
   "metadata": {},
   "source": [
    "TRANS_ID | DEPOSIT | BALANCE\n",
    "---------------- | ------------------- | -----------\n",
    "1 | 400 | 550\n",
    "7 | 400 | 716\n",
    "13 | 400 |905\n",
    "21 | 400 | 924\n",
    "26 | 400 | 1061\n",
    "33 | 400 | 1203\n",
    "39 | 400 | 1386\n",
    "46 | 400 | 1446"
   ]
  },
  {
   "cell_type": "markdown",
   "metadata": {},
   "source": [
    "Average expenditure per week : (Difference in Balance)/8\n",
    "(Calculations done in excel)\n",
    "\n",
    "Average expenditure per week: $130.75\n",
    "\n",
    "Projected income for next week: $400\n",
    "\n",
    "Projected expenditure for next week: $130.75\n",
    "\n",
    "Balance in the account per last week's pay: $1446\n",
    "\n",
    "Balance in the account for the projected week: (1446 - 130.75) + 400 = $1715.25\n",
    "\n",
    "Savings for the projected week: 1715.25 - 1446 = $269.25"
   ]
  }
 ],
 "metadata": {
  "kernelspec": {
   "display_name": "Python 3",
   "language": "python",
   "name": "python3"
  },
  "language_info": {
   "codemirror_mode": {
    "name": "ipython",
    "version": 3
   },
   "file_extension": ".py",
   "mimetype": "text/x-python",
   "name": "python",
   "nbconvert_exporter": "python",
   "pygments_lexer": "ipython3",
   "version": "3.8.3"
  }
 },
 "nbformat": 4,
 "nbformat_minor": 2
}
