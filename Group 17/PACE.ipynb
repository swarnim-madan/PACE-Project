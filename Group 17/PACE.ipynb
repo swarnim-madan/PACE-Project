{
 "cells": [
  {
   "cell_type": "markdown",
   "metadata": {},
   "source": [
    "# Group 17"
   ]
  },
  {
   "cell_type": "code",
   "execution_count": 17,
   "metadata": {},
   "outputs": [],
   "source": [
    "import numpy as np\n",
    "import pandas as pd\n",
    "import matplotlib.pyplot as plt\n",
    "%matplotlib inline\n",
    "import seaborn as sns"
   ]
  },
  {
   "cell_type": "code",
   "execution_count": 20,
   "metadata": {},
   "outputs": [],
   "source": [
    "df = pd.read_excel('files/Copy of bank.xlsx', index_col=0)"
   ]
  },
  {
   "cell_type": "markdown",
   "metadata": {},
   "source": [
    "## Introduction of the data:\n",
    "\n",
    "* Customer name: Jon Smith\n",
    "* Weekly income: $400\n",
    "* Occupation: Full-time student at Macquarie University. Part-time crew member at Domino's."
   ]
  },
  {
   "cell_type": "markdown",
   "metadata": {},
   "source": [
    "## Brief snippet of the data:"
   ]
  },
  {
   "cell_type": "markdown",
   "metadata": {},
   "source": [
    "(Ignore the last column for now, just using it for calculations)"
   ]
  },
  {
   "cell_type": "code",
   "execution_count": 21,
   "metadata": {},
   "outputs": [
    {
     "data": {
      "text/html": [
       "<div>\n",
       "<style scoped>\n",
       "    .dataframe tbody tr th:only-of-type {\n",
       "        vertical-align: middle;\n",
       "    }\n",
       "\n",
       "    .dataframe tbody tr th {\n",
       "        vertical-align: top;\n",
       "    }\n",
       "\n",
       "    .dataframe thead th {\n",
       "        text-align: right;\n",
       "    }\n",
       "</style>\n",
       "<table border=\"1\" class=\"dataframe\">\n",
       "  <thead>\n",
       "    <tr style=\"text-align: right;\">\n",
       "      <th></th>\n",
       "      <th>Date</th>\n",
       "      <th>TIME_TRANS</th>\n",
       "      <th>LOCATION</th>\n",
       "      <th>TRANS_TYPE</th>\n",
       "      <th>TRANS_TYPE_CODE</th>\n",
       "      <th>WITHDRAWL</th>\n",
       "      <th>DEPOSIT</th>\n",
       "      <th>BALANCE</th>\n",
       "      <th>Unnamed: 9</th>\n",
       "    </tr>\n",
       "    <tr>\n",
       "      <th>TRANS_ID</th>\n",
       "      <th></th>\n",
       "      <th></th>\n",
       "      <th></th>\n",
       "      <th></th>\n",
       "      <th></th>\n",
       "      <th></th>\n",
       "      <th></th>\n",
       "      <th></th>\n",
       "      <th></th>\n",
       "    </tr>\n",
       "  </thead>\n",
       "  <tbody>\n",
       "    <tr>\n",
       "      <th>1</th>\n",
       "      <td>02.05.2020</td>\n",
       "      <td>17</td>\n",
       "      <td>NaN</td>\n",
       "      <td>Weekly pay</td>\n",
       "      <td>0</td>\n",
       "      <td>NaN</td>\n",
       "      <td>400.0</td>\n",
       "      <td>550</td>\n",
       "      <td>NaN</td>\n",
       "    </tr>\n",
       "    <tr>\n",
       "      <th>2</th>\n",
       "      <td>02.05.2020</td>\n",
       "      <td>18</td>\n",
       "      <td>Macquarie Park</td>\n",
       "      <td>Healthcare</td>\n",
       "      <td>1</td>\n",
       "      <td>59.0</td>\n",
       "      <td>NaN</td>\n",
       "      <td>491</td>\n",
       "      <td>NaN</td>\n",
       "    </tr>\n",
       "    <tr>\n",
       "      <th>3</th>\n",
       "      <td>03.05.2020</td>\n",
       "      <td>14</td>\n",
       "      <td>Chatswood</td>\n",
       "      <td>Food</td>\n",
       "      <td>2</td>\n",
       "      <td>60.0</td>\n",
       "      <td>NaN</td>\n",
       "      <td>431</td>\n",
       "      <td>NaN</td>\n",
       "    </tr>\n",
       "    <tr>\n",
       "      <th>4</th>\n",
       "      <td>04.05.2020</td>\n",
       "      <td>18</td>\n",
       "      <td>Burwood</td>\n",
       "      <td>Clothing</td>\n",
       "      <td>3</td>\n",
       "      <td>42.0</td>\n",
       "      <td>NaN</td>\n",
       "      <td>389</td>\n",
       "      <td>NaN</td>\n",
       "    </tr>\n",
       "    <tr>\n",
       "      <th>5</th>\n",
       "      <td>05.05.2020</td>\n",
       "      <td>7</td>\n",
       "      <td>Town Hall</td>\n",
       "      <td>Travel</td>\n",
       "      <td>4</td>\n",
       "      <td>16.0</td>\n",
       "      <td>NaN</td>\n",
       "      <td>373</td>\n",
       "      <td>NaN</td>\n",
       "    </tr>\n",
       "    <tr>\n",
       "      <th>6</th>\n",
       "      <td>05.05.2020</td>\n",
       "      <td>6</td>\n",
       "      <td>The Rocks</td>\n",
       "      <td>Food</td>\n",
       "      <td>2</td>\n",
       "      <td>57.0</td>\n",
       "      <td>NaN</td>\n",
       "      <td>316</td>\n",
       "      <td>NaN</td>\n",
       "    </tr>\n",
       "    <tr>\n",
       "      <th>7</th>\n",
       "      <td>07.05.2020</td>\n",
       "      <td>6</td>\n",
       "      <td>NaN</td>\n",
       "      <td>Weekly pay</td>\n",
       "      <td>0</td>\n",
       "      <td>NaN</td>\n",
       "      <td>400.0</td>\n",
       "      <td>716</td>\n",
       "      <td>166.0</td>\n",
       "    </tr>\n",
       "    <tr>\n",
       "      <th>8</th>\n",
       "      <td>07.05.2020</td>\n",
       "      <td>17</td>\n",
       "      <td>Chatswood</td>\n",
       "      <td>Utilities</td>\n",
       "      <td>5</td>\n",
       "      <td>38.0</td>\n",
       "      <td>NaN</td>\n",
       "      <td>678</td>\n",
       "      <td>NaN</td>\n",
       "    </tr>\n",
       "    <tr>\n",
       "      <th>9</th>\n",
       "      <td>07.05.2020</td>\n",
       "      <td>19</td>\n",
       "      <td>Strathfield</td>\n",
       "      <td>Food</td>\n",
       "      <td>2</td>\n",
       "      <td>78.0</td>\n",
       "      <td>NaN</td>\n",
       "      <td>600</td>\n",
       "      <td>NaN</td>\n",
       "    </tr>\n",
       "    <tr>\n",
       "      <th>10</th>\n",
       "      <td>08.05.2020</td>\n",
       "      <td>1</td>\n",
       "      <td>Burwood</td>\n",
       "      <td>Travel</td>\n",
       "      <td>4</td>\n",
       "      <td>58.0</td>\n",
       "      <td>NaN</td>\n",
       "      <td>542</td>\n",
       "      <td>NaN</td>\n",
       "    </tr>\n",
       "  </tbody>\n",
       "</table>\n",
       "</div>"
      ],
      "text/plain": [
       "                Date  TIME_TRANS        LOCATION  TRANS_TYPE  TRANS_TYPE_CODE  \\\n",
       "TRANS_ID                                                                        \n",
       "1         02.05.2020          17             NaN  Weekly pay                0   \n",
       "2         02.05.2020          18  Macquarie Park  Healthcare                1   \n",
       "3         03.05.2020          14       Chatswood        Food                2   \n",
       "4         04.05.2020          18         Burwood    Clothing                3   \n",
       "5         05.05.2020           7       Town Hall      Travel                4   \n",
       "6         05.05.2020           6       The Rocks        Food                2   \n",
       "7         07.05.2020           6             NaN  Weekly pay                0   \n",
       "8         07.05.2020          17       Chatswood   Utilities                5   \n",
       "9         07.05.2020          19     Strathfield        Food                2   \n",
       "10        08.05.2020           1         Burwood      Travel                4   \n",
       "\n",
       "          WITHDRAWL  DEPOSIT  BALANCE  Unnamed: 9  \n",
       "TRANS_ID                                           \n",
       "1               NaN    400.0      550         NaN  \n",
       "2              59.0      NaN      491         NaN  \n",
       "3              60.0      NaN      431         NaN  \n",
       "4              42.0      NaN      389         NaN  \n",
       "5              16.0      NaN      373         NaN  \n",
       "6              57.0      NaN      316         NaN  \n",
       "7               NaN    400.0      716       166.0  \n",
       "8              38.0      NaN      678         NaN  \n",
       "9              78.0      NaN      600         NaN  \n",
       "10             58.0      NaN      542         NaN  "
      ]
     },
     "execution_count": 21,
     "metadata": {},
     "output_type": "execute_result"
    }
   ],
   "source": [
    "df.head(10)"
   ]
  },
  {
   "cell_type": "markdown",
   "metadata": {},
   "source": [
    "## Data description:\n",
    "\n",
    "1. ID: Gives every transaction a unique identifier.\n",
    "2. DATE: Gives the date on which Jon made the transaction. \n",
    "3. TIME_TRANS: Gives the time taken to complete the transaction (in seconds).\n",
    "4. LOCATION: Gives the location where Jon made the transaction.\n",
    "5. TRANS_TYPE: Categorises each transaction in 6 categories. Categories are:\n",
    "    * Clothing: Includes the amount spent on clothing and other fashion accessories.\n",
    "    * Food: Includes the amount spent on food at restaurants.\n",
    "    * Healthcare: Includes the amount spent on all health related issues. This includes pharmacies and hospitals.\n",
    "    * Travel: Includes all travel related expenses. This includes the money spent on public transport and petrol stations.\n",
    "    * Utilities: This includes all miscellaneous expenditure.\n",
    "    * Weekly pay: This refers to the weekly payment which is deposited to Jon's account.\n",
    "6. TRANS_TYPE_CODE: Gives a numeric code to the categories in the above column. Codes are:\n",
    "    * 0: Weekly pay\n",
    "    * 1: Healthcare\n",
    "    * 2: Food\n",
    "    * 3: Clothing\n",
    "    * 4: Travel\n",
    "    * 5: Utilities\n",
    "6. WITHDRAWL: Gives the amount of money withdrawn from Jon's account.\n",
    "7. DEPOSIT: Gives the amount of money deposited into Jon's account..\n",
    "8. BALANCE: Gives the total amount of money in Jon's account after each transaction."
   ]
  },
  {
   "cell_type": "markdown",
   "metadata": {},
   "source": [
    "### **Aim:** \n",
    "> To calculate the projected expenditure of the user based on the data collected."
   ]
  },
  {
   "cell_type": "markdown",
   "metadata": {},
   "source": [
    "### **Hypothesis:**\n",
    "> Using average expenditure per transaction type, we can calculate the projections for next week using \"Projected Income - Projected Expenses\""
   ]
  },
  {
   "cell_type": "markdown",
   "metadata": {},
   "source": [
    "### **Method:**"
   ]
  },
  {
   "cell_type": "code",
   "execution_count": 22,
   "metadata": {},
   "outputs": [
    {
     "data": {
      "text/plain": [
       "(array([0, 1, 2, 3, 4, 5]), <a list of 6 Text major ticklabel objects>)"
      ]
     },
     "execution_count": 22,
     "metadata": {},
     "output_type": "execute_result"
    },
    {
     "data": {
      "image/png": "[encoded data removed]",
      "text/plain": [
       "<Figure size 432x288 with 1 Axes>"
      ]
     },
     "metadata": {
      "needs_background": "light"
     },
     "output_type": "display_data"
    }
   ],
   "source": [
    "sns.countplot(x='TRANS_TYPE', data=df, palette='husl')\n",
    "# Will try to get rid of \"Weekly pay\", the code below doesn't seem to work.\n",
    "# stats_df = df.drop(['Weekly pay'], axis=1)\n",
    "# sns.countplot(data=stats_df)\n",
    "plt.xticks(rotation=-45)"
   ]
  },
  {
   "cell_type": "markdown",
   "metadata": {},
   "source": [
    "* Most of Jon's expenditure is focussed on **Food** with **Clothing** next. \n",
    "* **Travel** is third in line, this could be interpreted as the expenditure on public transport and/or for the fuel in his car.\n",
    "* An equal amount of expenditure on **Healthcare** and **Utilities** is observed."
   ]
  },
  {
   "cell_type": "code",
   "execution_count": 23,
   "metadata": {},
   "outputs": [
    {
     "data": {
      "text/plain": [
       "<seaborn.axisgrid.FacetGrid at 0x2372e3da6a0>"
      ]
     },
     "execution_count": 23,
     "metadata": {},
     "output_type": "execute_result"
    },
    {
     "data": {
      "image/png": "[encoded data removed]",
      "text/plain": [
       "<Figure size 464x360 with 1 Axes>"
      ]
     },
     "metadata": {
      "needs_background": "light"
     },
     "output_type": "display_data"
    }
   ],
   "source": [
    "sns.lmplot(x='BALANCE',y='TRANS_TYPE_CODE', data=df,\n",
    "           fit_reg=True, hue=\"TRANS_TYPE_CODE\", palette='husl') "
   ]
  },
  {
   "cell_type": "markdown",
   "metadata": {},
   "source": [
    "We can see that Jon is saving up his money weekly as the **Balance** of his bank account is going futher after each of his **Weekly pay** and his ahead of any expenditure done by him."
   ]
  },
  {
   "cell_type": "markdown",
   "metadata": {},
   "source": [
    "## Projections for upcoming week:"
   ]
  },
  {
   "cell_type": "markdown",
   "metadata": {},
   "source": [
    "**Assumptions:**\n",
    " * The starting balance amount in Jon's account before his first weekly pay is $150.\n",
    " * (More assumptions to come)\n",
    "\n",
    "Table highlighting the **Balance** in Jon's account after his weekly pay and before any of his expenditures:"
   ]
  },
  {
   "cell_type": "markdown",
   "metadata": {},
   "source": [
    "TRANS_ID | DEPOSIT | BALANCE\n",
    "---------------- | ------------------- | -----------\n",
    "1 | 400 | 550\n",
    "7 | 400 | 716\n",
    "13 | 400 |905\n",
    "21 | 400 | 924\n",
    "26 | 400 | 1061\n",
    "33 | 400 | 1203\n",
    "39 | 400 | 1386\n",
    "46 | 400 | 1446"
   ]
  },
  {
   "cell_type": "markdown",
   "metadata": {},
   "source": [
    "Average expenditure per week : (Difference in Balance)/8\n",
    "(Calculations done in excel)\n",
    "\n",
    "Average expenditure per week: $130.75\n",
    "\n",
    "Projected income for next week: $400\n",
    "\n",
    "Projected expenditure for next week: $130.75\n",
    "\n",
    "Balance in the account per last week's pay: $1446\n",
    "\n",
    "Balance in the account for the projected week: (1446 - 130.75) + 400 = $1715.25\n",
    "\n",
    "Savings for the projected week: 1715.25 - 1446 = $269.25"
   ]
  }
 ],
 "metadata": {
  "kernelspec": {
   "display_name": "Python 3",
   "language": "python",
   "name": "python3"
  },
  "language_info": {
   "codemirror_mode": {
    "name": "ipython",
    "version": 3
   },
   "file_extension": ".py",
   "mimetype": "text/x-python",
   "name": "python",
   "nbconvert_exporter": "python",
   "pygments_lexer": "ipython3",
   "version": "3.8.3"
  }
 },
 "nbformat": 4,
 "nbformat_minor": 2
}
