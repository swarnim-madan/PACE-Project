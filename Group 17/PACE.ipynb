{
 "cells": [
  {
   "cell_type": "markdown",
   "metadata": {},
   "source": [
    "# Group 17"
   ]
  },
  {
   "cell_type": "code",
   "execution_count": 1,
   "metadata": {},
   "outputs": [],
   "source": [
    "import numpy as np\n",
    "import pandas as pd\n",
    "import matplotlib.pyplot as plt\n",
    "%matplotlib inline\n",
    "import seaborn as sns"
   ]
  },
  {
   "cell_type": "code",
   "execution_count": 2,
   "metadata": {},
   "outputs": [],
   "source": [
    "df = pd.read_excel('files/Copy of bank.xlsx', index_col=0)"
   ]
  },
  {
   "cell_type": "markdown",
   "metadata": {},
   "source": [
    "## Brief snippet of the data:"
   ]
  },
  {
   "cell_type": "code",
   "execution_count": 3,
   "metadata": {},
   "outputs": [
    {
     "data": {
      "text/html": [
       "<div>\n",
       "<style scoped>\n",
       "    .dataframe tbody tr th:only-of-type {\n",
       "        vertical-align: middle;\n",
       "    }\n",
       "\n",
       "    .dataframe tbody tr th {\n",
       "        vertical-align: top;\n",
       "    }\n",
       "\n",
       "    .dataframe thead th {\n",
       "        text-align: right;\n",
       "    }\n",
       "</style>\n",
       "<table border=\"1\" class=\"dataframe\">\n",
       "  <thead>\n",
       "    <tr style=\"text-align: right;\">\n",
       "      <th></th>\n",
       "      <th>HOME_OWNERSHIP</th>\n",
       "      <th>INCOME_CATEGORY</th>\n",
       "      <th>ANNUAL_INC</th>\n",
       "      <th>CARD_ENDING_IN</th>\n",
       "      <th>PASSWORD</th>\n",
       "      <th>DATE</th>\n",
       "      <th>GENDER</th>\n",
       "      <th>CVV</th>\n",
       "      <th>CONTACT_INFO</th>\n",
       "      <th>WITHDRAWAL AMT</th>\n",
       "      <th>DEPOSIT AMT</th>\n",
       "      <th>BALANCE AMT</th>\n",
       "      <th>TIME_TRANS_MIN</th>\n",
       "      <th>CUST_BEFORE</th>\n",
       "      <th>CUST_MORE</th>\n",
       "      <th>AVG_TIME_HRS</th>\n",
       "      <th>LONGITUDE</th>\n",
       "      <th>LATITUDE</th>\n",
       "      <th>POSTAL_CODE</th>\n",
       "    </tr>\n",
       "    <tr>\n",
       "      <th>ID</th>\n",
       "      <th></th>\n",
       "      <th></th>\n",
       "      <th></th>\n",
       "      <th></th>\n",
       "      <th></th>\n",
       "      <th></th>\n",
       "      <th></th>\n",
       "      <th></th>\n",
       "      <th></th>\n",
       "      <th></th>\n",
       "      <th></th>\n",
       "      <th></th>\n",
       "      <th></th>\n",
       "      <th></th>\n",
       "      <th></th>\n",
       "      <th></th>\n",
       "      <th></th>\n",
       "      <th></th>\n",
       "      <th></th>\n",
       "    </tr>\n",
       "  </thead>\n",
       "  <tbody>\n",
       "    <tr>\n",
       "      <th>1077501</th>\n",
       "      <td>RENT</td>\n",
       "      <td>Low</td>\n",
       "      <td>24000</td>\n",
       "      <td>4374</td>\n",
       "      <td>OCpJsF9fC</td>\n",
       "      <td>19/10/2015</td>\n",
       "      <td>Female</td>\n",
       "      <td>827</td>\n",
       "      <td>962-683-9351</td>\n",
       "      <td>NaN</td>\n",
       "      <td>1000000.0</td>\n",
       "      <td>1000000</td>\n",
       "      <td>2</td>\n",
       "      <td>False</td>\n",
       "      <td>True</td>\n",
       "      <td>1.7</td>\n",
       "      <td>-8.477748</td>\n",
       "      <td>40.930375</td>\n",
       "      <td>3886</td>\n",
       "    </tr>\n",
       "    <tr>\n",
       "      <th>1077430</th>\n",
       "      <td>RENT</td>\n",
       "      <td>Low</td>\n",
       "      <td>30000</td>\n",
       "      <td>9695</td>\n",
       "      <td>ZItgXOTpVZkt</td>\n",
       "      <td>18/03/2015</td>\n",
       "      <td>Female</td>\n",
       "      <td>901</td>\n",
       "      <td>843-558-0494</td>\n",
       "      <td>NaN</td>\n",
       "      <td>1000000.0</td>\n",
       "      <td>2000000</td>\n",
       "      <td>3</td>\n",
       "      <td>False</td>\n",
       "      <td>False</td>\n",
       "      <td>2.0</td>\n",
       "      <td>52.064547</td>\n",
       "      <td>27.837044</td>\n",
       "      <td>3334</td>\n",
       "    </tr>\n",
       "    <tr>\n",
       "      <th>1077175</th>\n",
       "      <td>RENT</td>\n",
       "      <td>Low</td>\n",
       "      <td>12252</td>\n",
       "      <td>7304</td>\n",
       "      <td>itaIoCUb9</td>\n",
       "      <td>30/03/2018</td>\n",
       "      <td>Female</td>\n",
       "      <td>403</td>\n",
       "      <td>554-189-5641</td>\n",
       "      <td>NaN</td>\n",
       "      <td>500000.0</td>\n",
       "      <td>2500000</td>\n",
       "      <td>1</td>\n",
       "      <td>False</td>\n",
       "      <td>True</td>\n",
       "      <td>1.4</td>\n",
       "      <td>114.684382</td>\n",
       "      <td>38.032411</td>\n",
       "      <td>2414</td>\n",
       "    </tr>\n",
       "    <tr>\n",
       "      <th>1076863</th>\n",
       "      <td>RENT</td>\n",
       "      <td>Low</td>\n",
       "      <td>29200</td>\n",
       "      <td>5008</td>\n",
       "      <td>FIR54IlLV</td>\n",
       "      <td>14/03/2015</td>\n",
       "      <td>Male</td>\n",
       "      <td>550</td>\n",
       "      <td>253-238-4262</td>\n",
       "      <td>NaN</td>\n",
       "      <td>3000000.0</td>\n",
       "      <td>5500000</td>\n",
       "      <td>10</td>\n",
       "      <td>False</td>\n",
       "      <td>True</td>\n",
       "      <td>2.1</td>\n",
       "      <td>119.937033</td>\n",
       "      <td>16.043204</td>\n",
       "      <td>2684</td>\n",
       "    </tr>\n",
       "    <tr>\n",
       "      <th>1075358</th>\n",
       "      <td>OWN</td>\n",
       "      <td>High</td>\n",
       "      <td>800000</td>\n",
       "      <td>1826</td>\n",
       "      <td>IjJPNqhsp</td>\n",
       "      <td>19/05/2019</td>\n",
       "      <td>Female</td>\n",
       "      <td>777</td>\n",
       "      <td>889-850-8538</td>\n",
       "      <td>NaN</td>\n",
       "      <td>500000.0</td>\n",
       "      <td>6000000</td>\n",
       "      <td>1</td>\n",
       "      <td>False</td>\n",
       "      <td>True</td>\n",
       "      <td>0.5</td>\n",
       "      <td>65.969039</td>\n",
       "      <td>40.039569</td>\n",
       "      <td>4508</td>\n",
       "    </tr>\n",
       "  </tbody>\n",
       "</table>\n",
       "</div>"
      ],
      "text/plain": [
       "        HOME_OWNERSHIP INCOME_CATEGORY  ANNUAL_INC  CARD_ENDING_IN  \\\n",
       "ID                                                                   \n",
       "1077501           RENT             Low       24000            4374   \n",
       "1077430           RENT             Low       30000            9695   \n",
       "1077175           RENT             Low       12252            7304   \n",
       "1076863           RENT             Low       29200            5008   \n",
       "1075358            OWN            High      800000            1826   \n",
       "\n",
       "             PASSWORD        DATE  GENDER  CVV  CONTACT_INFO  WITHDRAWAL AMT  \\\n",
       "ID                                                                             \n",
       "1077501     OCpJsF9fC  19/10/2015  Female  827  962-683-9351             NaN   \n",
       "1077430  ZItgXOTpVZkt  18/03/2015  Female  901  843-558-0494             NaN   \n",
       "1077175     itaIoCUb9  30/03/2018  Female  403  554-189-5641             NaN   \n",
       "1076863     FIR54IlLV  14/03/2015    Male  550  253-238-4262             NaN   \n",
       "1075358     IjJPNqhsp  19/05/2019  Female  777  889-850-8538             NaN   \n",
       "\n",
       "         DEPOSIT AMT  BALANCE AMT  TIME_TRANS_MIN  CUST_BEFORE  CUST_MORE  \\\n",
       "ID                                                                          \n",
       "1077501    1000000.0      1000000               2        False       True   \n",
       "1077430    1000000.0      2000000               3        False      False   \n",
       "1077175     500000.0      2500000               1        False       True   \n",
       "1076863    3000000.0      5500000              10        False       True   \n",
       "1075358     500000.0      6000000               1        False       True   \n",
       "\n",
       "         AVG_TIME_HRS   LONGITUDE   LATITUDE  POSTAL_CODE  \n",
       "ID                                                         \n",
       "1077501           1.7   -8.477748  40.930375         3886  \n",
       "1077430           2.0   52.064547  27.837044         3334  \n",
       "1077175           1.4  114.684382  38.032411         2414  \n",
       "1076863           2.1  119.937033  16.043204         2684  \n",
       "1075358           0.5   65.969039  40.039569         4508  "
      ]
     },
     "execution_count": 3,
     "metadata": {},
     "output_type": "execute_result"
    }
   ],
   "source": [
    "df.head()"
   ]
  },
  {
   "cell_type": "markdown",
   "metadata": {},
   "source": [
    "## Data description:\n",
    "\n",
    "1. ID: Gives every transaction a unique identifier.\n",
    "2. HOME_OWNERSHIP: Describes the living situation of the customer. \n",
    "3. INCOME_CATEGORY: Defines whether the customer's annual income falls under \"low\", \"medium\" or \"high\". Low being less than 40000, medium being between 40000 and 99999 and high being more than 100000.\n",
    "4. ANNUAL_INCOME: Gives the annual income of the customer.\n",
    "5. CARD_ENDING_IN: Last 4 digits of the card used for the transaction.\n",
    "6. PASSWORD: Password of the customer account.\n",
    "7. DATE: Date of the transaction.\n",
    "8. GENDER: Gives the gender of the customer.\n",
    "9. CVV: Provides the CVV of the customer card used for transaction.\n",
    "10. CONTACT_INFO: Contact number of the customer.\n",
    "11. WITHDRAWL_AMT: Amount withdrawn by the customer, if any.\n",
    "12. DEPOSIT_AMT: Amount deposited by the customer, if any.\n",
    "13. BALANCE_AMT: Balance amount in the customer account, if any.\n",
    "14. TIME_TRANS_MIN: Gives the time taken during transaction in minutes.\n",
    "15. CUST_BEFORE: Customer feedback on whether they found the application customised.\n",
    "16. CUST_MORE:  Customer feedback on whether they'd like more customisation on their app.\n",
    "17. AVG_TIME_HRS: Gives the time spent by the customer on the app per day in hours.\n",
    "18. LONGITUDE: Gives the longitude of the location the transaction occurred.\n",
    "19. LATITUDE: Gives the latitude of the location the transaction occurred.\n",
    "20. POSTAL_CODE: Gives the postal code of the customer address.\n",
    "\n",
    "\n",
    "\n"
   ]
  },
  {
   "cell_type": "markdown",
   "metadata": {},
   "source": [
    "## Customers in favour of more customisation "
   ]
  },
  {
   "cell_type": "markdown",
   "metadata": {},
   "source": [
    "## Very basic analysis to give the idea of how we will proceed:"
   ]
  },
  {
   "cell_type": "markdown",
   "metadata": {},
   "source": [
    "### The graph below shows the number of customers who felt customisation in their banking apps."
   ]
  },
  {
   "cell_type": "code",
   "execution_count": 15,
   "metadata": {},
   "outputs": [
    {
     "data": {
      "text/plain": [
       "<matplotlib.axes._subplots.AxesSubplot at 0x1554473e070>"
      ]
     },
     "execution_count": 15,
     "metadata": {},
     "output_type": "execute_result"
    },
    {
     "data": {
      "image/png": "[encoded data removed]",
      "text/plain": [
       "<Figure size 432x288 with 1 Axes>"
      ]
     },
     "metadata": {
      "needs_background": "light"
     },
     "output_type": "display_data"
    }
   ],
   "source": [
    "sns.countplot(x=\"CUST_BEFORE\", data=df)"
   ]
  },
  {
   "cell_type": "markdown",
   "metadata": {},
   "source": [
    "### The graph below shows the number of customers who felt their should be more customisation on their banking apps."
   ]
  },
  {
   "cell_type": "code",
   "execution_count": 16,
   "metadata": {},
   "outputs": [
    {
     "data": {
      "text/plain": [
       "<matplotlib.axes._subplots.AxesSubplot at 0x15544f5e5e0>"
      ]
     },
     "execution_count": 16,
     "metadata": {},
     "output_type": "execute_result"
    },
    {
     "data": {
      "image/png": "[encoded data removed]",
      "text/plain": [
       "<Figure size 432x288 with 1 Axes>"
      ]
     },
     "metadata": {
      "needs_background": "light"
     },
     "output_type": "display_data"
    }
   ],
   "source": [
    "sns.countplot(x=\"CUST_MORE\", data=df)"
   ]
  },
  {
   "cell_type": "markdown",
   "metadata": {},
   "source": [
    "Thus, providing a customer oriented way of modifying the banking app is the way to go."
   ]
  },
  {
   "cell_type": "markdown",
   "metadata": {},
   "source": [
    "##  Relationship between customer income and time spent on the app:"
   ]
  },
  {
   "cell_type": "markdown",
   "metadata": {},
   "source": [
    " > We aim to find whether a customer's annual income has a direct impact on the average time they spend on the app per day."
   ]
  },
  {
   "cell_type": "code",
   "execution_count": 7,
   "metadata": {},
   "outputs": [
    {
     "data": {
      "text/plain": [
       "<seaborn.axisgrid.FacetGrid at 0x20f18d2b790>"
      ]
     },
     "execution_count": 7,
     "metadata": {},
     "output_type": "execute_result"
    },
    {
     "data": {
      "image/png": "[encoded data removed]",
      "text/plain": [
       "<Figure size 360x360 with 1 Axes>"
      ]
     },
     "metadata": {
      "needs_background": "light"
     },
     "output_type": "display_data"
    }
   ],
   "source": [
    "sns.lmplot(x='ANNUAL_INC', y='AVG_TIME_HRS', data=df)"
   ]
  },
  {
   "cell_type": "markdown",
   "metadata": {},
   "source": [
    "No effect of income over time spent on the app can be seen here. Fit line to total is almost parallel to x axis."
   ]
  },
  {
   "cell_type": "code",
   "execution_count": 13,
   "metadata": {},
   "outputs": [
    {
     "data": {
      "text/plain": [
       "<matplotlib.axes._subplots.AxesSubplot at 0x20f18f31070>"
      ]
     },
     "execution_count": 13,
     "metadata": {},
     "output_type": "execute_result"
    },
    {
     "data": {
      "image/png": "[encoded data removed]",
      "text/plain": [
       "<Figure size 432x288 with 1 Axes>"
      ]
     },
     "metadata": {
      "needs_background": "light"
     },
     "output_type": "display_data"
    }
   ],
   "source": [
    "sns.swarmplot(x='INCOME_CATEGORY', y='AVG_TIME_HRS', data=df)"
   ]
  },
  {
   "cell_type": "markdown",
   "metadata": {},
   "source": [
    "A similar distribution among all income categories can be seen. "
   ]
  },
  {
   "cell_type": "markdown",
   "metadata": {},
   "source": [
    "Both the charts above show that income does not affect the time a customer spends on the banking app."
   ]
  }
 ],
 "metadata": {
  "kernelspec": {
   "display_name": "Python 3",
   "language": "python",
   "name": "python3"
  },
  "language_info": {
   "codemirror_mode": {
    "name": "ipython",
    "version": 3
   },
   "file_extension": ".py",
   "mimetype": "text/x-python",
   "name": "python",
   "nbconvert_exporter": "python",
   "pygments_lexer": "ipython3",
   "version": "3.8.3"
  }
 },
 "nbformat": 4,
 "nbformat_minor": 2
}
